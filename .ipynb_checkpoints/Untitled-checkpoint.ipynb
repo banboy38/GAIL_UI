{
 "cells": [
  {
   "cell_type": "code",
   "execution_count": 1,
   "id": "9504e948",
   "metadata": {},
   "outputs": [
    {
     "name": "stderr",
     "output_type": "stream",
     "text": [
      "C:\\Users\\indreshb\\AppData\\Local\\anaconda3\\Lib\\site-packages\\pandas\\core\\arrays\\masked.py:60: UserWarning: Pandas requires version '1.3.6' or newer of 'bottleneck' (version '1.3.5' currently installed).\n",
      "  from pandas.core import (\n"
     ]
    }
   ],
   "source": [
    "import pandas as pd"
   ]
  },
  {
   "cell_type": "code",
   "execution_count": 3,
   "id": "4f9cc9fa",
   "metadata": {},
   "outputs": [],
   "source": [
    "df=pd.read_csv(\"static/uploads/31202705-2be7-4000-b6c6-8c1f6facfb3d/outputs/extracted.csv\")"
   ]
  },
  {
   "cell_type": "code",
   "execution_count": 7,
   "id": "94449a86",
   "metadata": {},
   "outputs": [
    {
     "data": {
      "text/plain": [
       "[{'field': 'Average Annual Turnover of the bidder as per the previous three Financial Year (INR Crores)',\n",
       "  'HPCL': '15.618',\n",
       "  'NRL': '23958.73'}]"
      ]
     },
     "execution_count": 7,
     "metadata": {},
     "output_type": "execute_result"
    }
   ],
   "source": [
    "df[df.field.str.contains(\"annual turnover\",case=False)].to_dict(orient='records')"
   ]
  },
  {
   "cell_type": "code",
   "execution_count": 8,
   "id": "ab332293",
   "metadata": {},
   "outputs": [],
   "source": [
    "df=pd.read_excel(\"static/uploads/31202705-2be7-4000-b6c6-8c1f6facfb3d/outputs/extraction_results_dummy_1.xlsx\")"
   ]
  },
  {
   "cell_type": "code",
   "execution_count": 9,
   "id": "425e3305",
   "metadata": {},
   "outputs": [],
   "source": [
    "df.to_csv(\"static/uploads/31202705-2be7-4000-b6c6-8c1f6facfb3d/outputs/modified.csv\",index=False)"
   ]
  },
  {
   "cell_type": "code",
   "execution_count": null,
   "id": "af568f4b",
   "metadata": {},
   "outputs": [],
   "source": []
  }
 ],
 "metadata": {
  "kernelspec": {
   "display_name": "Python 3 (ipykernel)",
   "language": "python",
   "name": "python3"
  },
  "language_info": {
   "codemirror_mode": {
    "name": "ipython",
    "version": 3
   },
   "file_extension": ".py",
   "mimetype": "text/x-python",
   "name": "python",
   "nbconvert_exporter": "python",
   "pygments_lexer": "ipython3",
   "version": "3.11.5"
  }
 },
 "nbformat": 4,
 "nbformat_minor": 5
}
